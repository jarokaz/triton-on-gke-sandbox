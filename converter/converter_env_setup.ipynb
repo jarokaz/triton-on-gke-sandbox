{
 "cells": [
  {
   "cell_type": "markdown",
   "id": "204e1e7d-59d9-47ce-8340-7fa707cc7451",
   "metadata": {},
   "source": [
    "## Define variables"
   ]
  },
  {
   "cell_type": "code",
   "execution_count": null,
   "id": "19e40444",
   "metadata": {},
   "outputs": [],
   "source": [
    "from datetime import datetime"
   ]
  },
  {
   "cell_type": "code",
   "execution_count": null,
   "id": "3a695ea4-950d-4b2f-9059-54ca0022cd4e",
   "metadata": {},
   "outputs": [],
   "source": [
    "PROJECT_ID = \"rl-llm-dev\"\n",
    "REGION = \"us-central1\"\n",
    "TIMESTAMP = datetime.now().strftime(\"%Y%m%d%H%M%S\")\n",
    "BUCKET_NAME = \"gs://rl-llm-export-ft\"\n",
    "DOCKER_ARTIFACT_REPO = \"llms-on-gke\""
   ]
  },
  {
   "cell_type": "markdown",
   "id": "b99be043-d756-4ed0-b27d-9c15c9ab44c6",
   "metadata": {},
   "source": [
    "## Setting up Artifact Repository"
   ]
  },
  {
   "cell_type": "code",
   "execution_count": null,
   "id": "35d8642d-ff9f-493e-a8d0-ad87d2d94b5d",
   "metadata": {},
   "outputs": [],
   "source": [
    "# Enable the Artifact Registry API service for your project.\n",
    "! gcloud services enable artifactregistry.googleapis.com\n",
    "\n",
    "# create a new Docker repository with your region with the description\n",
    "! gcloud artifacts repositories create {DOCKER_ARTIFACT_REPO} \\\n",
    "    --repository-format=docker \\\n",
    "    --location={REGION} \\\n",
    "    --description=\"Triton Docker repository\"\n",
    "\n",
    "# verify that your repository was created.\n",
    "! gcloud artifacts repositories list \\\n",
    "    --location={REGION} \\\n",
    "    --filter=\"name~\"{DOCKER_ARTIFACT_REPO}\n",
    "\n",
    "! gcloud auth configure-docker {REGION}-docker.pkg.dev --quiet"
   ]
  },
  {
   "attachments": {},
   "cell_type": "markdown",
   "id": "8140aafa-de61-4092-856e-2df29d8bd84b",
   "metadata": {
    "tags": []
   },
   "source": [
    "## Build container"
   ]
  },
  {
   "cell_type": "markdown",
   "id": "63f14d3b-1c47-4e1c-8758-4126c195bb7a",
   "metadata": {},
   "source": [
    "- Build the image and tag the Artifact Registry path that the image will be pushed to"
   ]
  },
  {
   "cell_type": "code",
   "execution_count": null,
   "id": "eae51eb2-363b-4871-91c3-d7b698d55125",
   "metadata": {},
   "outputs": [],
   "source": [
    "# JAX to FasterTransformers container image name\n",
    "JAX_TO_FT_IMAGE_NAME = \"jax-to-fastertransformer\"\n",
    "# JAX_TO_FT_IMAGE_URI = f\"{REGION}-docker.pkg.dev/{PROJECT_ID}/{DOCKER_ARTIFACT_REPO}/{JAX_TO_FT_IMAGE_NAME}\"\n",
    "JAX_TO_FT_IMAGE_URI = f\"gcr.io/{PROJECT_ID}/{DOCKER_ARTIFACT_REPO}/{JAX_TO_FT_IMAGE_NAME}\""
   ]
  },
  {
   "cell_type": "code",
   "execution_count": null,
   "id": "b54a6516-6296-4e28-b4af-9d69e54eae3c",
   "metadata": {},
   "outputs": [],
   "source": [
    "FILE_LOCATION = './src'\n",
    "! gcloud builds submit \\\n",
    "      --region $REGION \\\n",
    "      --config src/cloudbuild.yaml \\\n",
    "      --substitutions _DOCKERNAME=$JAX_TO_FT_IMAGE_NAME,_IMAGE_URI=$JAX_TO_FT_IMAGE_URI,_FILE_LOCATION=$FILE_LOCATION \\\n",
    "      --timeout \"2h\" \\\n",
    "      --machine-type=e2-highcpu-32 \\\n",
    "      --quiet"
   ]
  }
 ],
 "metadata": {
  "environment": {
   "kernel": "t5x-base",
   "name": "common-cu110.m93",
   "type": "gcloud",
   "uri": "gcr.io/deeplearning-platform-release/base-cu110:m93"
  },
  "kernelspec": {
   "display_name": "base",
   "language": "python",
   "name": "python3"
  },
  "language_info": {
   "codemirror_mode": {
    "name": "ipython",
    "version": 3
   },
   "file_extension": ".py",
   "mimetype": "text/x-python",
   "name": "python",
   "nbconvert_exporter": "python",
   "pygments_lexer": "ipython3",
   "version": "3.7.12"
  },
  "vscode": {
   "interpreter": {
    "hash": "d4d1e4263499bec80672ea0156c357c1ee493ec2b1c70f0acce89fc37c4a6abe"
   }
  }
 },
 "nbformat": 4,
 "nbformat_minor": 5
}
